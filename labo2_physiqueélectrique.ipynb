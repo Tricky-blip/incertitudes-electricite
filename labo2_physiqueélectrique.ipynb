{
  "nbformat": 4,
  "nbformat_minor": 0,
  "metadata": {
    "colab": {
      "name": "labo2_physiqueélectrique.ipynb",
      "provenance": [],
      "include_colab_link": true
    },
    "kernelspec": {
      "name": "python3",
      "display_name": "Python 3"
    }
  },
  "cells": [
    {
      "cell_type": "markdown",
      "metadata": {
        "id": "view-in-github",
        "colab_type": "text"
      },
      "source": [
        "<a href=\"https://colab.research.google.com/github/Tricky-blip/incertitudes-electricite/blob/master/labo2_physique%C3%A9lectrique.ipynb\" target=\"_parent\"><img src=\"https://colab.research.google.com/assets/colab-badge.svg\" alt=\"Open In Colab\"/></a>"
      ]
    },
    {
      "cell_type": "code",
      "metadata": {
        "id": "UCVJ8wd83Z7t",
        "colab_type": "code",
        "colab": {}
      },
      "source": [
        "def voltageContinu(valeurs):\n",
        "  '''\n",
        "  Valeurs: Une liste de voltages dont on veut connaître les incertitudes.\n",
        "  Returns: Une liste des listes. Chaque liste contient la valeur et son incertitude.\n",
        "  '''\n",
        "  incertitudes = []\n",
        "  for values in valeurs:\n",
        "    if values < 3.200:\n",
        "      precision = values*0.003\n",
        "      precision += 0.001\n",
        "      precision = round(precision, 3)\n",
        "      incertitudes.append([values, precision])\n",
        "    elif values < 32.00:\n",
        "      precision = values*0.003\n",
        "      precision += 0.01\n",
        "      precision = round(precision, 2)\n",
        "      incertitudes.append([values, precision])\n",
        "    elif values < 320.0:\n",
        "      precision = values*0.003\n",
        "      precision += 0.1\n",
        "      precision = round(precision, 1)\n",
        "      incertitudes.append([values, precision])\n",
        "    elif values < 600:\n",
        "      precision = values*0.004\n",
        "      precision + 1\n",
        "      precision = round(precision, 0)\n",
        "      incertitudes.append([values, precision])\n",
        "  return incertitudes\n"
      ],
      "execution_count": 0,
      "outputs": []
    },
    {
      "cell_type": "code",
      "metadata": {
        "id": "LRmn_Pbt3e2k",
        "colab_type": "code",
        "colab": {}
      },
      "source": [
        "values = [1.346, 2.712, 4.12, 5.51]"
      ],
      "execution_count": 0,
      "outputs": []
    },
    {
      "cell_type": "code",
      "metadata": {
        "id": "N5sf67Gm34RI",
        "colab_type": "code",
        "outputId": "591dfe14-88fd-403b-f670-776cdca72756",
        "colab": {
          "base_uri": "https://localhost:8080/",
          "height": 34
        }
      },
      "source": [
        "voltageContinu(values)"
      ],
      "execution_count": 0,
      "outputs": [
        {
          "output_type": "execute_result",
          "data": {
            "text/plain": [
              "[[1.346, 0.005], [2.712, 0.009], [4.12, 0.02], [5.51, 0.03]]"
            ]
          },
          "metadata": {
            "tags": []
          },
          "execution_count": 21
        }
      ]
    },
    {
      "cell_type": "code",
      "metadata": {
        "id": "ADTvO9Q136CW",
        "colab_type": "code",
        "colab": {}
      },
      "source": [
        ""
      ],
      "execution_count": 0,
      "outputs": []
    }
  ]
}