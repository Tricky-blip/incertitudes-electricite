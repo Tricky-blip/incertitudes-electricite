{
  "nbformat": 4,
  "nbformat_minor": 0,
  "metadata": {
    "colab": {
      "name": "calculIncertitudes_physiqueélectrique.ipynb",
      "provenance": [],
      "include_colab_link": true
    },
    "kernelspec": {
      "name": "python3",
      "display_name": "Python 3"
    }
  },
  "cells": [
    {
      "cell_type": "markdown",
      "metadata": {
        "id": "view-in-github",
        "colab_type": "text"
      },
      "source": [
        "<a href=\"https://colab.research.google.com/github/Tricky-blip/incertitudes-electricite/blob/master/calculIncertitudes_physique%C3%A9lectrique.ipynb\" target=\"_parent\"><img src=\"https://colab.research.google.com/assets/colab-badge.svg\" alt=\"Open In Colab\"/></a>"
      ]
    },
    {
      "cell_type": "code",
      "metadata": {
        "id": "UCVJ8wd83Z7t",
        "colab_type": "code",
        "colab": {}
      },
      "source": [
        "def voltageContinu(valeurs):\n",
        "  '''\n",
        "  Valeurs: Une liste de voltages dont on veut connaître les incertitudes.\n",
        "  Returns: Une liste des listes. Chaque liste contient la valeur et son incertitude.\n",
        "  '''\n",
        "  incertitudes = []\n",
        "  for values in valeurs:\n",
        "    if values < 3.200:\n",
        "      precision = values*Decimal(\"0.003\")\n",
        "      precision += Decimal(\"0.001\")\n",
        "      precision = precision.quantize(Decimal(\"1.000\"))\n",
        "      incertitudes.append([values, precision])\n",
        "    elif values < 32.00:\n",
        "      precision = values*Decimal(\"0.003\")\n",
        "      precision += Decimal(\"0.01\")\n",
        "      precision = precision.quantize(Decimal(\"1.00\"))\n",
        "      incertitudes.append([values, precision])\n",
        "    elif values < 320.0:\n",
        "      precision = values*Decimal(\"0.003\")\n",
        "      precision += Decimal(\"0.1\")\n",
        "      precision = precision.quantize(Decimal(\"1.0\"))\n",
        "      incertitudes.append([values, precision])\n",
        "    elif values < 600:\n",
        "      precision = values*Decimal(\"0.004\")\n",
        "      precision += Decimal(\"1\")\n",
        "      precision = precision.quantize(Decimal(\"1\"))\n",
        "      incertitudes.append([values, precision])\n",
        "  return incertitudes\n"
      ],
      "execution_count": 0,
      "outputs": []
    },
    {
      "cell_type": "code",
      "metadata": {
        "id": "LRmn_Pbt3e2k",
        "colab_type": "code",
        "colab": {}
      },
      "source": [
        "def miliVoltageContinu(valeurs):\n",
        "  '''\n",
        "  Valeurs: Une liste de voltages dont on veut connaître les incertitudes.\n",
        "  Returns: Une liste des listes. Chaque liste contient la valeur et son incertitude.\n",
        "  '''\n",
        "  incertitudes = []\n",
        "  for values in valeurs:\n",
        "    if values < 320:\n",
        "      precision = values*Decimal(\"0.003\")\n",
        "      precision += Decimal(\"0.1\")\n",
        "      precision = precision.quantize(Decimal(\"1.00\"))\n",
        "      incertitudes.append([values, precision])\n",
        "  return incertitudes"
      ],
      "execution_count": 0,
      "outputs": []
    },
    {
      "cell_type": "code",
      "metadata": {
        "id": "N5sf67Gm34RI",
        "colab_type": "code",
        "colab": {}
      },
      "source": [
        "def voltageAlternatif(valeurs):\n",
        "  '''\n",
        "  Valeurs: Une liste de voltages dont on veut connaître les incertitudes.\n",
        "  Returns: Une liste des listes. Chaque liste contient la valeur et son incertitude.\n",
        "  '''\n",
        "  incertitudes = []\n",
        "  for values in valeurs:\n",
        "    if values < 3.200:\n",
        "      precision = values*Decimal(\"0.02\")\n",
        "      precision += Decimal(\"0.001\")\n",
        "      precision = precision.quantize(Decimal(\"1.000\"))\n",
        "      incertitudes.append([values, precision])\n",
        "    elif values < 32.00:\n",
        "      precision = values*Decimal(\"0.02\")\n",
        "      precision += Decimal(\"0.01\")\n",
        "      precision = precision.quantize(Decimal(\"1.00\"))\n",
        "      incertitudes.append([values, precision])\n",
        "    elif values < 320.0:\n",
        "      precision = values*Decimal(\"0.02\")\n",
        "      precision += Decimal(\"0.1\")\n",
        "      precision = precision.quantize(Decimal(\"1.0\"))\n",
        "      incertitudes.append([values, precision])\n",
        "  return incertitudes"
      ],
      "execution_count": 0,
      "outputs": []
    },
    {
      "cell_type": "code",
      "metadata": {
        "id": "ADTvO9Q136CW",
        "colab_type": "code",
        "colab": {}
      },
      "source": [
        "def amperesContinu(valeurs):\n",
        "  '''\n",
        "  Valeurs: une liste d'amperages dont on veut connaître les incertitudes.\n",
        "  Returns: Une liste des listes. Chaque liste contient la valeur et son incertitude. \n",
        "  '''\n",
        "  incertitudes = []\n",
        "  for values in valeurs:\n",
        "    if values < 10.00:\n",
        "      precision = values*Decimal(\"0.015\")\n",
        "      precision += Decimal(\"0.02\")\n",
        "      precision = precision.quantize(Decimal(\"1.00\"))\n",
        "      incertitudes.append([values, precision])\n",
        "    elif values < 32.00:\n",
        "      precision = values*Decimal(\"0.015\")\n",
        "      precision += Decimal(\"0.02\")\n",
        "      precision = precision.quantize(Decimal(\"1.00\"))\n",
        "      incertitudes.append([values, precision])\n",
        "    elif values < 320.0:\n",
        "      precision = values*Decimal(\"0.015\")\n",
        "      precision += Decimal(\"0.2\")\n",
        "      precision = precision.quantize(Decimal(\"1.0\"))\n",
        "      incertitudes.append([values, precision])\n",
        "  return incertitudes\n",
        "\n",
        "\n"
      ],
      "execution_count": 0,
      "outputs": []
    },
    {
      "cell_type": "code",
      "metadata": {
        "id": "5hVhoZuB_0NJ",
        "colab_type": "code",
        "colab": {}
      },
      "source": [
        "def amperesAlternatif(valeurs):\n",
        "  '''\n",
        "  Valeurs: une liste d'amperages dont on veut connaître les incertitudes.\n",
        "  Returns: Une liste des listes. Chaque liste contient la valeur et son incertitude. \n",
        "  '''\n",
        "  incertitudes = []\n",
        "  for values in valeurs:\n",
        "    if values < 10.00:\n",
        "      precision = values*Decimal(\"0.025\")\n",
        "      precision += Decimal(\"0.02\")\n",
        "      precision = precision.quantize(Decimal(\"1.00\"))\n",
        "      incertitudes.append([values, precision])\n",
        "    elif values < 32.00:\n",
        "      precision = values*Decimal(\"0.025\")\n",
        "      precision += Decimal(\"0.02\")\n",
        "      precision = precision.quantize(Decimal(\"1.00\"))\n",
        "      incertitudes.append([values, precision])\n",
        "    elif values < 320.0:\n",
        "      precision = values*Decimal(\"0.025\")\n",
        "      precision += Decimal(\"0.2\")\n",
        "      precision = precision.quantize(Decimal(\"1.0\"))\n",
        "      incertitudes.append([values, precision])\n",
        "  return incertitudes"
      ],
      "execution_count": 0,
      "outputs": []
    },
    {
      "cell_type": "code",
      "metadata": {
        "id": "QlNqkBhzAHlK",
        "colab_type": "code",
        "colab": {}
      },
      "source": [
        "def ohm(valeurs):\n",
        "  '''\n",
        "  Valeurs: une liste de résistances dont on veut connaître les incertitudes.\n",
        "  Returns: Une liste des listes. Chaque liste contient la valeur et son incertitude. \n",
        "  '''\n",
        "  incertitudes = []\n",
        "  for values in valeurs:\n",
        "    if values < 3.200:\n",
        "      precision = values*Decimal(\"0.005\")\n",
        "      precision += Decimal(\"0.001\")\n",
        "      precision = precision.quantize(Decimal(\"1.000\"))\n",
        "      incertitudes.append([values, precision])\n",
        "    elif values < 32.00:\n",
        "      print (values)\n",
        "      size = input(\"Est-ce des kilo ou des mega ohms? Répondez 'kilo' ou 'mega'.\")\n",
        "      if size == 'kilo':\n",
        "        precision = values*Decimal(\"0.005\")\n",
        "        precision += Decimal(\"0.01\")\n",
        "        precision = precision.quantize(Decimal(\"1.00\"))\n",
        "        incertitudes.append([values, precision])\n",
        "      elif size == 'mega':\n",
        "        precision = values*Decimal(\"0.02\")\n",
        "        precision += Decimal(\"0.02\")\n",
        "        precision = precision.quantize(Decimal(\"1.00\"))\n",
        "        incertitudes.append([values, precision])\n",
        "    elif values < 320.0:\n",
        "      print (values)\n",
        "      size = input(\"Est-ce des kilo ohms ou des ohms. Répondez 'kilo' ou 'ohms'.\")\n",
        "      if size == 'kilo':\n",
        "        precision = values*0.005\n",
        "        precision += 0.1\n",
        "        precision = Decimal(precision)\n",
        "        precision = round(precision, 1)\n",
        "        incertitudes.append([values, precision])\n",
        "      elif size == 'ohms':\n",
        "        precision = values*0.005\n",
        "        precision += 0.2\n",
        "        if precision < 1:\n",
        "          precision = Decimal(precision)\n",
        "          precision = round(precision, 1)\n",
        "        elif precision >= 1:\n",
        "          precision = Decimal(precision)\n",
        "          precision = round(precision)\n",
        "          incertitudes.append([values, precision])\n",
        "    elif values < 3200:\n",
        "      precision = values*0.005\n",
        "      precision += 1\n",
        "      precision = round(precision, 1)\n",
        "      incertitudes.append([values, precision])\n",
        "  return incertitudes"
      ],
      "execution_count": 0,
      "outputs": []
    },
    {
      "cell_type": "code",
      "metadata": {
        "id": "nbOrAJq8CjwE",
        "colab_type": "code",
        "colab": {}
      },
      "source": [
        "def wattsUp(valeurs):\n",
        "  '''\n",
        "  Valeurs: Une liste de voltages dont on veut connaître les incertitudes.\n",
        "  Returns: Une liste des listes. Chaque liste contient la valeur et son incertitude.\n",
        "  '''\n",
        "  incertitudes = []\n",
        "  for values in valeurs:\n",
        "    precision = values*0.015\n",
        "    precision += 0.3\n",
        "    round(precision, 1)\n",
        "    incertitudes.append([values, precision])\n",
        "  return incertitudes"
      ],
      "execution_count": 0,
      "outputs": []
    },
    {
      "cell_type": "code",
      "metadata": {
        "id": "DpXcuaf1-bzk",
        "colab_type": "code",
        "colab": {}
      },
      "source": [
        "from decimal import Decimal"
      ],
      "execution_count": 0,
      "outputs": []
    },
    {
      "cell_type": "code",
      "metadata": {
        "id": "-oCSbjQtDOSn",
        "colab_type": "code",
        "colab": {}
      },
      "source": [
        "values = [256.8]\n",
        "good = []\n",
        "realGood = []"
      ],
      "execution_count": 0,
      "outputs": []
    },
    {
      "cell_type": "code",
      "metadata": {
        "id": "sOU8oRnui4qH",
        "colab_type": "code",
        "colab": {}
      },
      "source": [
        "for x in values:\n",
        "  good.append(str(x))\n",
        "\n",
        "  "
      ],
      "execution_count": 0,
      "outputs": []
    },
    {
      "cell_type": "code",
      "metadata": {
        "id": "8ZibJmvjjXiJ",
        "colab_type": "code",
        "colab": {}
      },
      "source": [
        "for values in good:\n",
        "  realGood.append(Decimal(values))"
      ],
      "execution_count": 0,
      "outputs": []
    },
    {
      "cell_type": "code",
      "metadata": {
        "id": "dErLApjkDlhP",
        "colab_type": "code",
        "outputId": "f91399df-f594-4737-f1da-9c086f4823f7",
        "colab": {
          "base_uri": "https://localhost:8080/",
          "height": 34
        }
      },
      "source": [
        "print(realGood)"
      ],
      "execution_count": 0,
      "outputs": [
        {
          "output_type": "stream",
          "text": [
            "[Decimal('256.8')]\n"
          ],
          "name": "stdout"
        }
      ]
    },
    {
      "cell_type": "code",
      "metadata": {
        "id": "0-UhgSbuDoPE",
        "colab_type": "code",
        "outputId": "07ff27d0-4654-4a2a-aa77-c2d90fba488d",
        "colab": {
          "base_uri": "https://localhost:8080/",
          "height": 34
        }
      },
      "source": [
        "Decimal(str(256.8))*Decimal(str(0.005))+Decimal(\"0.2\")"
      ],
      "execution_count": 20,
      "outputs": [
        {
          "output_type": "execute_result",
          "data": {
            "text/plain": [
              "Decimal('1.4840')"
            ]
          },
          "metadata": {
            "tags": []
          },
          "execution_count": 20
        }
      ]
    },
    {
      "cell_type": "code",
      "metadata": {
        "id": "n73MgWpuFOYA",
        "colab_type": "code",
        "colab": {}
      },
      "source": [
        "(Decimal(1.5)).quantize(Decimal(\"1\"))"
      ],
      "execution_count": 0,
      "outputs": []
    },
    {
      "cell_type": "code",
      "metadata": {
        "id": "mIFLFSmy__0U",
        "colab_type": "code",
        "colab": {}
      },
      "source": [
        ""
      ],
      "execution_count": 0,
      "outputs": []
    }
  ]
}