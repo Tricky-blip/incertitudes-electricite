{
  "nbformat": 4,
  "nbformat_minor": 0,
  "metadata": {
    "colab": {
      "name": "calculIncertitudes_physiqueélectrique.ipynb",
      "provenance": [],
      "include_colab_link": true
    },
    "kernelspec": {
      "name": "python3",
      "display_name": "Python 3"
    }
  },
  "cells": [
    {
      "cell_type": "markdown",
      "metadata": {
        "id": "view-in-github",
        "colab_type": "text"
      },
      "source": [
        "<a href=\"https://colab.research.google.com/github/Tricky-blip/incertitudes-electricite/blob/master/calculIncertitudes_physique%C3%A9lectrique.ipynb\" target=\"_parent\"><img src=\"https://colab.research.google.com/assets/colab-badge.svg\" alt=\"Open In Colab\"/></a>"
      ]
    },
    {
      "cell_type": "code",
      "metadata": {
        "id": "DpXcuaf1-bzk",
        "colab_type": "code",
        "colab": {}
      },
      "source": [
        "from decimal import Decimal"
      ],
      "execution_count": 0,
      "outputs": []
    },
    {
      "cell_type": "code",
      "metadata": {
        "id": "yAAhcl5f57ja",
        "colab_type": "code",
        "colab": {}
      },
      "source": [
        "def decimalValue(valeurs):\n",
        "  '''\n",
        "  valeurs : Les donnes que l'on veut convertir en unites decimales.\n",
        "  returns: une liste de valeurs en decimales plutot qu'en float.\n",
        "  '''\n",
        "  better = []\n",
        "  for values in valeurs:\n",
        "    good  = (str(values))\n",
        "    better.append(Decimal(good))\n",
        "  return better\n"
      ],
      "execution_count": 0,
      "outputs": []
    },
    {
      "cell_type": "code",
      "metadata": {
        "id": "mIFLFSmy__0U",
        "colab_type": "code",
        "colab": {}
      },
      "source": [
        "def valeurArrondie (chiffre, cs):\n",
        "  '''\n",
        "  chiffre: un chiffre en unites decimales que l'on veut arrondir\n",
        "  cs: le nombre de 0 que l'on veut apres la virgule. (int)\n",
        "  Returns: la valeur arrondie en decimales\n",
        "  '''\n",
        "  i = '1.'\n",
        "  while cs > 0:\n",
        "    i += '0'\n",
        "    cs -= 1\n",
        "  return chiffre.quantize(Decimal(i))\n"
      ],
      "execution_count": 0,
      "outputs": []
    },
    {
      "cell_type": "code",
      "metadata": {
        "id": "UCVJ8wd83Z7t",
        "colab_type": "code",
        "colab": {}
      },
      "source": [
        "def voltageContinu(mesures):\n",
        "  '''\n",
        "  mesures: Une liste de voltages dont on veut connaître les incertitudes.\n",
        "  Returns: Une liste des listes. Chaque liste contient la valeur et son incertitude.\n",
        "  '''\n",
        "  valeurs = decimalValue(mesures)\n",
        "  incertitudes = []\n",
        "  for values in valeurs:\n",
        "    if values < 3.200:\n",
        "      precision = values*Decimal(\"0.003\")\n",
        "      precision += Decimal(\"0.001\")\n",
        "      precision = valeurArrondie(precision, 3)\n",
        "      incertitudes.append([values, precision])\n",
        "    elif values < 32.00:\n",
        "      precision = values*Decimal(\"0.003\")\n",
        "      precision += Decimal(\"0.01\")\n",
        "      precision = valeurArrondie(precision, 2)\n",
        "      incertitudes.append([values, precision])\n",
        "    elif values < 320.0:\n",
        "      precision = values*Decimal(\"0.003\")\n",
        "      precision += Decimal(\"0.1\")\n",
        "      if precision < 1:\n",
        "        precision = valeurArrondie(precision, 1)\n",
        "      elif precision >= 1:\n",
        "        precision = valeurArrondie(precision, 0)\n",
        "        incertitudes.append([valeurArrondie(values, 0), precision])\n",
        "    elif values < 600:\n",
        "      precision = values*Decimal(\"0.004\")\n",
        "      precision += Decimal(\"1\")\n",
        "      precision = valeurArrondie(precision, 0)\n",
        "      incertitudes.append([values, precision])\n",
        "  return incertitudes\n"
      ],
      "execution_count": 0,
      "outputs": []
    },
    {
      "cell_type": "code",
      "metadata": {
        "id": "LRmn_Pbt3e2k",
        "colab_type": "code",
        "colab": {}
      },
      "source": [
        "def miliVoltageContinu(mesures):\n",
        "  '''\n",
        "  mesures: Une liste de voltages dont on veut connaître les incertitudes.\n",
        "  Returns: Une liste des listes. Chaque liste contient la valeur et son incertitude.\n",
        "  '''\n",
        "  valeurs = decimalValue(mesures)\n",
        "  incertitudes = []\n",
        "  for values in valeurs:\n",
        "    if values < 320.0:\n",
        "      precision = values*Decimal(\"0.003\")\n",
        "      precision += Decimal(\"0.1\")\n",
        "      precision = valeurArrondie(precision, 1)\n",
        "      incertitudes.append([values, precision])\n",
        "  return incertitudes"
      ],
      "execution_count": 0,
      "outputs": []
    },
    {
      "cell_type": "code",
      "metadata": {
        "id": "N5sf67Gm34RI",
        "colab_type": "code",
        "colab": {}
      },
      "source": [
        "def voltageAlternatif(mesures):\n",
        "  '''\n",
        "  mesures: Une liste de voltages dont on veut connaître les incertitudes.\n",
        "  Returns: Une liste des listes. Chaque liste contient la valeur et son incertitude.\n",
        "  '''\n",
        "  valeurs = decimalValue(mesures)\n",
        "  incertitudes = []\n",
        "  for values in valeurs:\n",
        "    if values < 3.200:\n",
        "      precision = values*Decimal(\"0.02\")\n",
        "      precision += Decimal(\"0.001\")\n",
        "      precision = precision.quantize(Decimal(\"1.000\"))\n",
        "      incertitudes.append([values, precision])\n",
        "    elif values < 32.00:\n",
        "      precision = values*Decimal(\"0.02\")\n",
        "      precision += Decimal(\"0.01\")\n",
        "      precision = precision.quantize(Decimal(\"1.00\"))\n",
        "      incertitudes.append([values, precision])\n",
        "    elif values < 320.0:\n",
        "      precision = values*Decimal(\"0.02\")\n",
        "      precision += Decimal(\"0.1\")\n",
        "      precision = precision.quantize(Decimal(\"1.0\"))\n",
        "      incertitudes.append([values, precision])\n",
        "  return incertitudes"
      ],
      "execution_count": 0,
      "outputs": []
    },
    {
      "cell_type": "code",
      "metadata": {
        "id": "ADTvO9Q136CW",
        "colab_type": "code",
        "colab": {}
      },
      "source": [
        "def amperesContinu(mesures):\n",
        "  '''\n",
        "  mesures: une liste d'amperages dont on veut connaître les incertitudes.\n",
        "  Returns: Une liste des listes. Chaque liste contient la valeur et son incertitude. \n",
        "  '''\n",
        "  valeurs = decimalValue(mesures)\n",
        "  incertitudes = []\n",
        "  for values in valeurs:\n",
        "    if values < 10.00:\n",
        "      precision = values*Decimal(\"0.015\")\n",
        "      precision += Decimal(\"0.02\")\n",
        "      precision = precision.quantize(Decimal(\"1.00\"))\n",
        "      incertitudes.append([values, precision])\n",
        "    elif values < 32.00:\n",
        "      precision = values*Decimal(\"0.015\")\n",
        "      precision += Decimal(\"0.02\")\n",
        "      precision = precision.quantize(Decimal(\"1.00\"))\n",
        "      incertitudes.append([values, precision])\n",
        "    elif values < 320.0:\n",
        "      precision = values*Decimal(\"0.015\")\n",
        "      precision += Decimal(\"0.2\")\n",
        "      precision = precision.quantize(Decimal(\"1.0\"))\n",
        "      incertitudes.append([values, precision])\n",
        "  return incertitudes\n",
        "\n",
        "\n"
      ],
      "execution_count": 0,
      "outputs": []
    },
    {
      "cell_type": "code",
      "metadata": {
        "id": "5hVhoZuB_0NJ",
        "colab_type": "code",
        "colab": {}
      },
      "source": [
        "def amperesAlternatif(mesures):\n",
        "  '''\n",
        "  mesures: une liste d'amperages dont on veut connaître les incertitudes.\n",
        "  Returns: Une liste des listes. Chaque liste contient la valeur et son incertitude. \n",
        "  '''\n",
        "  valeurs = decimalValue(mesures)\n",
        "  incertitudes = []\n",
        "  for values in valeurs:\n",
        "    if values < 10.00:\n",
        "      precision = values*Decimal(\"0.025\")\n",
        "      precision += Decimal(\"0.02\")\n",
        "      precision = precision.quantize(Decimal(\"1.00\"))\n",
        "      incertitudes.append([values, precision])\n",
        "    elif values < 32.00:\n",
        "      precision = values*Decimal(\"0.025\")\n",
        "      precision += Decimal(\"0.02\")\n",
        "      precision = precision.quantize(Decimal(\"1.00\"))\n",
        "      incertitudes.append([values, precision])\n",
        "    elif values < 320.0:\n",
        "      precision = values*Decimal(\"0.025\")\n",
        "      precision += Decimal(\"0.2\")\n",
        "      precision = precision.quantize(Decimal(\"1.0\"))\n",
        "      incertitudes.append([values, precision])\n",
        "  return incertitudes"
      ],
      "execution_count": 0,
      "outputs": []
    },
    {
      "cell_type": "code",
      "metadata": {
        "id": "QlNqkBhzAHlK",
        "colab_type": "code",
        "colab": {}
      },
      "source": [
        "def ohm(mesures):\n",
        "  '''\n",
        "  mesures: une liste de résistances dont on veut connaître les incertitudes.\n",
        "  Returns: Une liste des listes. Chaque liste contient la valeur et son incertitude. \n",
        "  '''\n",
        "  valeurs = decimalValue(mesures)\n",
        "  incertitudes = []\n",
        "  for values in valeurs:\n",
        "    if values < 3.200:\n",
        "      precision = values*Decimal(\"0.005\")\n",
        "      precision += Decimal(\"0.001\")\n",
        "      precision = precision.quantize(Decimal(\"1.000\"))\n",
        "      incertitudes.append([values, precision])\n",
        "    elif values < 32.00:\n",
        "      print (values)\n",
        "      size = input(\"Est-ce des kilo ou des mega ohms? Répondez 'kilo' ou 'mega'.\")\n",
        "      if size == 'kilo':\n",
        "        precision = values*Decimal(\"0.005\")\n",
        "        precision += Decimal(\"0.01\")\n",
        "        precision = precision.quantize(Decimal(\"1.00\"))\n",
        "        incertitudes.append([values, precision])\n",
        "      elif size == 'mega':\n",
        "        precision = values*Decimal(\"0.02\")\n",
        "        precision += Decimal(\"0.02\")\n",
        "        precision = precision.quantize(Decimal(\"1.00\"))\n",
        "        incertitudes.append([values, precision])\n",
        "    elif values < 320.0:\n",
        "      print (values)\n",
        "      size = input(\"Est-ce des kilo ohms ou des ohms. Répondez 'kilo' ou 'ohms'.\")\n",
        "      if size == 'kilo':\n",
        "        precision = values*Decimal(\"0.005\")\n",
        "        precision += Decimal(\"0.1\")\n",
        "      elif size == 'ohms':\n",
        "        precision = values*Decimal(\"0.005\")\n",
        "        precision += Decimal(\"0.2\")\n",
        "        if precision < 1:\n",
        "          precision = Decimal(precision)\n",
        "          precision = round(precision, 1)\n",
        "        elif precision >= 1:\n",
        "          precision = Decimal(precision)\n",
        "          precision = round(precision)\n",
        "          incertitudes.append([values, precision])\n",
        "    elif values < 3200:\n",
        "      precision = values*0.005\n",
        "      precision += 1\n",
        "      precision = round(precision, 1)\n",
        "      incertitudes.append([values, precision])\n",
        "  return incertitudes"
      ],
      "execution_count": 0,
      "outputs": []
    },
    {
      "cell_type": "code",
      "metadata": {
        "id": "nbOrAJq8CjwE",
        "colab_type": "code",
        "colab": {}
      },
      "source": [
        "def wattsUp(mesures):\n",
        "  '''\n",
        "  mesures: Une liste de voltages dont on veut connaître les incertitudes.\n",
        "  Returns: Une liste des listes. Chaque liste contient la valeur et son incertitude.\n",
        "  '''\n",
        "  valeurs = decimalValue(mesures)\n",
        "  incertitudes = []\n",
        "  for values in valeurs:\n",
        "    precision = values*0.015\n",
        "    precision += 0.3\n",
        "    round(precision, 1)\n",
        "    incertitudes.append([values, precision])\n",
        "  return incertitudes"
      ],
      "execution_count": 0,
      "outputs": []
    },
    {
      "cell_type": "markdown",
      "metadata": {
        "id": "HZX6x2kZAVpM",
        "colab_type": "text"
      },
      "source": [
        "**Voici ce qu'il faudrait faire pour des voltages**"
      ]
    },
    {
      "cell_type": "code",
      "metadata": {
        "id": "g1Lzby1n9FdW",
        "colab_type": "code",
        "colab": {
          "base_uri": "https://localhost:8080/",
          "height": 85
        },
        "outputId": "26aae1d7-004d-4462-934b-7ed4b5f50c30"
      },
      "source": [
        "volts = [1.346, 2.712, 4.12, 5.51]\n",
        "voltageContinu(volts)"
      ],
      "execution_count": 66,
      "outputs": [
        {
          "output_type": "execute_result",
          "data": {
            "text/plain": [
              "[[Decimal('1.346'), Decimal('0.005')],\n",
              " [Decimal('2.712'), Decimal('0.009')],\n",
              " [Decimal('4.12'), Decimal('0.02')],\n",
              " [Decimal('5.51'), Decimal('0.03')]]"
            ]
          },
          "metadata": {
            "tags": []
          },
          "execution_count": 66
        }
      ]
    },
    {
      "cell_type": "markdown",
      "metadata": {
        "id": "-do9h3GlAcZZ",
        "colab_type": "text"
      },
      "source": [
        "**Voici ce qu'il faudrait faire pour les mili amperes**"
      ]
    },
    {
      "cell_type": "code",
      "metadata": {
        "id": "D-8AEnpS_MWt",
        "colab_type": "code",
        "colab": {
          "base_uri": "https://localhost:8080/",
          "height": 85
        },
        "outputId": "d2c5d9c4-5c9d-449c-e81a-35c02b8df0a5"
      },
      "source": [
        "amperes = [0.41, 0.82, 1.26, 1.68]\n",
        "amperesContinu(amperes)"
      ],
      "execution_count": 67,
      "outputs": [
        {
          "output_type": "execute_result",
          "data": {
            "text/plain": [
              "[[Decimal('0.41'), Decimal('0.03')],\n",
              " [Decimal('0.82'), Decimal('0.03')],\n",
              " [Decimal('1.26'), Decimal('0.04')],\n",
              " [Decimal('1.68'), Decimal('0.05')]]"
            ]
          },
          "metadata": {
            "tags": []
          },
          "execution_count": 67
        }
      ]
    }
  ]
}